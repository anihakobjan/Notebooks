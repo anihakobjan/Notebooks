{
  "nbformat": 4,
  "nbformat_minor": 0,
  "metadata": {
    "colab": {
      "provenance": []
    },
    "kernelspec": {
      "name": "python3",
      "display_name": "Python 3"
    },
    "language_info": {
      "name": "python"
    }
  },
  "cells": [
    {
      "cell_type": "markdown",
      "source": [
        "# API requests in Python"
      ],
      "metadata": {
        "id": "tsItuNNATP0s"
      }
    },
    {
      "cell_type": "markdown",
      "source": [
        "## 1. Extracting stock price data from the \"IBM\" Alpha Vantage API\n",
        "\n",
        "The Alpha Vantage API is used as a comprehensive platform to access financial data, including stock market data, foreign exchange (forex) data, cryptocurrency data, and technical indicators. It's widely used by developers, financial analysts and traders to integrate real-time historical financial data into applications.\n",
        "\n",
        "The function below retrieves the IBM stock's last opening price."
      ],
      "metadata": {
        "id": "Zk2d7JVPJ8fD"
      }
    },
    {
      "cell_type": "code",
      "execution_count": 8,
      "metadata": {
        "id": "7JB4CcPVJfJH"
      },
      "outputs": [],
      "source": [
        "#pip install requests\n",
        "# The requets library makes HTTP requests to retrieve data from APIs\n",
        "#json provides tools to parse and manipulate JSON data\n",
        "import requests\n",
        "import json"
      ]
    },
    {
      "cell_type": "code",
      "source": [
        "# Function to get live stock data for a symbol\n",
        "# Sends a GET request to Alpha Vantage API and stores the response in the response variable\n",
        "def get_stock_data():\n",
        "  url = \"https://www.alphavantage.co/query?function=TIME_SERIES_INTRADAY&symbol=IBM&interval=5min&outputsize=full&apikey=demo\"\n",
        "  response = requests.get(url)\n",
        "# checking response status if successful\n",
        "  if response.status_code == 200:\n",
        "    data = response.json()\n",
        "    last_refreshed = data[\"Meta Data\"][\"3. Last Refreshed\"]  # Space after '3.' is necessary\n",
        "    price = data[\"Time Series (5min)\"][last_refreshed][\"1. open\"]  # Space after '1.' is necessary\n",
        "    return price\n",
        "  else:\n",
        "    return None\n",
        "\n"
      ],
      "metadata": {
        "id": "SyHo2-hsKeRx"
      },
      "execution_count": 21,
      "outputs": []
    },
    {
      "cell_type": "markdown",
      "source": [
        "# Codes related to \"GET\" request:\n",
        "* 200 OK: The server successfully processed the\n",
        "request, and the requested data is returned.\n",
        "* 201 Created: A new resource is created on the server as a result of the request.\n",
        "* 204 No Content: The request is successful, but there is no additional data to return.\n",
        "* 300 Multiple Choices: The requested resource has multiple representations, each with its own URL.\n",
        "* 302 Found (Temporary Redirect): The requested resource is temporarily located at a different URL.\n",
        "* 304 Not Modified: The client's cached copy of the resource is still valid, and no re-download is necessary.\n",
        "* 400 Bad Request: The request has malformed syntax or contains invalid data, making it incomprehensible to the server.\n",
        "* 401 Unauthorized: Authentication is required, and the client's credentials (e.g., API key) are missing or invalid.\n",
        "* 500 Internal Server Error: An unexpected server error occurred during request processing.\n",
        "* 502 Bad Gateway: Acting as a gateway or proxy, the server received an invalid response from an upstream server.\n",
        "\n",
        "The status codes help communicate the outcome of API requests and guide developers and clients in understanding the results, errors, or necessary actions."
      ],
      "metadata": {
        "id": "ybhdO5RDQ4Q7"
      }
    },
    {
      "cell_type": "code",
      "source": [
        "# Stores the data in a dictionary\n",
        "stock_prices = {}\n",
        "price = get_stock_data()\n",
        "symbol = \"IBM\"\n",
        "if price is not None:\n",
        "    stock_prices[symbol] = round(float(price), 2) # shows only two decimal numbers after the dot, to remove it int(float(price))\n",
        "\n",
        "#print(f\"{symbol}: {price}\")\n",
        "print(f\"{symbol}: {stock_prices[symbol]}\")"
      ],
      "metadata": {
        "colab": {
          "base_uri": "https://localhost:8080/"
        },
        "id": "cQJ59XsVKnUX",
        "outputId": "253bd463-ce09-4f36-f28c-8bfcaad5615b"
      },
      "execution_count": 38,
      "outputs": [
        {
          "output_type": "stream",
          "name": "stdout",
          "text": [
            "IBM: 224.51\n"
          ]
        }
      ]
    },
    {
      "cell_type": "code",
      "source": [],
      "metadata": {
        "id": "zeTjWjWINqMc"
      },
      "execution_count": null,
      "outputs": []
    }
  ]
}