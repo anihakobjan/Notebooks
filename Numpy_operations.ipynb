{
  "nbformat": 4,
  "nbformat_minor": 0,
  "metadata": {
    "colab": {
      "provenance": []
    },
    "kernelspec": {
      "name": "python3",
      "display_name": "Python 3"
    },
    "language_info": {
      "name": "python"
    }
  },
  "cells": [
    {
      "cell_type": "markdown",
      "source": [
        "\n",
        "# Arithmetic operations, broadcasting and comparison\n",
        "\n",
        "Numpy arrays support arithmetic operators like +, -, *, etc. You can perform an arithmetic operation with a single number (also called scalar) or with another array of the same shape. Operators make it easy to write mathematical expressions with multi-dimensional arrays.\n"
      ],
      "metadata": {
        "id": "n0rP70aTtaPD"
      }
    },
    {
      "cell_type": "code",
      "execution_count": 1,
      "metadata": {
        "id": "0DsdACpGtTmK"
      },
      "outputs": [],
      "source": [
        "import numpy as np"
      ]
    },
    {
      "cell_type": "code",
      "source": [
        "arr2 = np.array([[1, 2, 3, 4],\n",
        "                 [5, 6, 7, 8],\n",
        "                 [9, 1, 2, 3]])"
      ],
      "metadata": {
        "id": "qQCv-9tJti54"
      },
      "execution_count": 2,
      "outputs": []
    },
    {
      "cell_type": "code",
      "source": [
        "arr3 = np.array([[11, 12, 13, 14],\n",
        "                 [15, 16, 17, 18],\n",
        "                 [19, 11, 12, 13]])"
      ],
      "metadata": {
        "id": "xSvMT-xMtyUP"
      },
      "execution_count": 3,
      "outputs": []
    },
    {
      "cell_type": "code",
      "source": [
        "arr2 + arr3"
      ],
      "metadata": {
        "colab": {
          "base_uri": "https://localhost:8080/"
        },
        "id": "AjUQ5KJfuCA5",
        "outputId": "cef14e54-427e-4a10-9697-83f791e06a48"
      },
      "execution_count": 4,
      "outputs": [
        {
          "output_type": "execute_result",
          "data": {
            "text/plain": [
              "array([[12, 14, 16, 18],\n",
              "       [20, 22, 24, 26],\n",
              "       [28, 12, 14, 16]])"
            ]
          },
          "metadata": {},
          "execution_count": 4
        }
      ]
    },
    {
      "cell_type": "code",
      "source": [
        "arr2 + 3"
      ],
      "metadata": {
        "colab": {
          "base_uri": "https://localhost:8080/"
        },
        "id": "8Rr6A7bfwvd6",
        "outputId": "0338e700-d545-40ef-f808-30f849479dd3"
      },
      "execution_count": 5,
      "outputs": [
        {
          "output_type": "execute_result",
          "data": {
            "text/plain": [
              "array([[ 4,  5,  6,  7],\n",
              "       [ 8,  9, 10, 11],\n",
              "       [12,  4,  5,  6]])"
            ]
          },
          "metadata": {},
          "execution_count": 5
        }
      ]
    },
    {
      "cell_type": "code",
      "source": [
        "arr3 - arr2"
      ],
      "metadata": {
        "colab": {
          "base_uri": "https://localhost:8080/"
        },
        "id": "h6nbn7auw1NS",
        "outputId": "98a552dc-f6b4-4b63-b6a3-cca3c4ac66e1"
      },
      "execution_count": 6,
      "outputs": [
        {
          "output_type": "execute_result",
          "data": {
            "text/plain": [
              "array([[10, 10, 10, 10],\n",
              "       [10, 10, 10, 10],\n",
              "       [10, 10, 10, 10]])"
            ]
          },
          "metadata": {},
          "execution_count": 6
        }
      ]
    },
    {
      "cell_type": "code",
      "source": [
        "arr2 / 2"
      ],
      "metadata": {
        "colab": {
          "base_uri": "https://localhost:8080/"
        },
        "id": "LPsWdZDXw6XG",
        "outputId": "a6c5a938-b3b2-45d6-8eca-9ff95968b0ce"
      },
      "execution_count": 7,
      "outputs": [
        {
          "output_type": "execute_result",
          "data": {
            "text/plain": [
              "array([[0.5, 1. , 1.5, 2. ],\n",
              "       [2.5, 3. , 3.5, 4. ],\n",
              "       [4.5, 0.5, 1. , 1.5]])"
            ]
          },
          "metadata": {},
          "execution_count": 7
        }
      ]
    },
    {
      "cell_type": "code",
      "source": [
        "arr3 * 4"
      ],
      "metadata": {
        "colab": {
          "base_uri": "https://localhost:8080/"
        },
        "id": "dWopQRtPw95r",
        "outputId": "17706b20-e801-43d8-88a8-2fe53f966e18"
      },
      "execution_count": 8,
      "outputs": [
        {
          "output_type": "execute_result",
          "data": {
            "text/plain": [
              "array([[44, 48, 52, 56],\n",
              "       [60, 64, 68, 72],\n",
              "       [76, 44, 48, 52]])"
            ]
          },
          "metadata": {},
          "execution_count": 8
        }
      ]
    },
    {
      "cell_type": "code",
      "source": [
        "#մնացորդ\n",
        "arr2 % 2"
      ],
      "metadata": {
        "colab": {
          "base_uri": "https://localhost:8080/"
        },
        "id": "qfl3IpKoxbpB",
        "outputId": "a57758fc-1443-4eda-e5b8-136bedecb42d"
      },
      "execution_count": 9,
      "outputs": [
        {
          "output_type": "execute_result",
          "data": {
            "text/plain": [
              "array([[1, 0, 1, 0],\n",
              "       [1, 0, 1, 0],\n",
              "       [1, 1, 0, 1]])"
            ]
          },
          "metadata": {},
          "execution_count": 9
        }
      ]
    },
    {
      "cell_type": "markdown",
      "source": [
        "\n",
        "Array Broadcasting¶\n",
        "\n",
        "Numpy arrays also support broadcasting, allowing arithmetic operations between two arrays with different numbers of dimensions but compatible shapes. Let's look at an example to see how it works.\n",
        "\n"
      ],
      "metadata": {
        "id": "mK8QnPngx8Ra"
      }
    },
    {
      "cell_type": "code",
      "source": [
        "arr2 = np.array([[1, 2, 3, 4],\n",
        "                 [5, 6, 7, 8],\n",
        "                 [9, 1, 2, 3]])"
      ],
      "metadata": {
        "id": "oU70ZsQdxmjI"
      },
      "execution_count": 10,
      "outputs": []
    },
    {
      "cell_type": "code",
      "source": [
        "arr2.shape"
      ],
      "metadata": {
        "colab": {
          "base_uri": "https://localhost:8080/"
        },
        "id": "SjIrQMEzx__5",
        "outputId": "858ad5f1-d882-45ac-89a9-206c9faaf925"
      },
      "execution_count": 11,
      "outputs": [
        {
          "output_type": "execute_result",
          "data": {
            "text/plain": [
              "(3, 4)"
            ]
          },
          "metadata": {},
          "execution_count": 11
        }
      ]
    },
    {
      "cell_type": "code",
      "source": [
        "arr4 = np.array([4, 5, 6, 7])"
      ],
      "metadata": {
        "id": "--vnm_JGyEOI"
      },
      "execution_count": 12,
      "outputs": []
    },
    {
      "cell_type": "code",
      "source": [
        "arr4"
      ],
      "metadata": {
        "colab": {
          "base_uri": "https://localhost:8080/"
        },
        "id": "S1YUarIiyOcK",
        "outputId": "24e8c480-9678-437b-80cc-446bf59bbb78"
      },
      "execution_count": 13,
      "outputs": [
        {
          "output_type": "execute_result",
          "data": {
            "text/plain": [
              "array([4, 5, 6, 7])"
            ]
          },
          "metadata": {},
          "execution_count": 13
        }
      ]
    },
    {
      "cell_type": "code",
      "source": [
        "arr4.shape"
      ],
      "metadata": {
        "colab": {
          "base_uri": "https://localhost:8080/"
        },
        "id": "YG_7ufSZyPeh",
        "outputId": "f3cb6ea1-2f38-4b8b-b8bc-e01fe9bcfbc1"
      },
      "execution_count": 14,
      "outputs": [
        {
          "output_type": "execute_result",
          "data": {
            "text/plain": [
              "(4,)"
            ]
          },
          "metadata": {},
          "execution_count": 14
        }
      ]
    },
    {
      "cell_type": "code",
      "source": [
        "arr2 + arr4"
      ],
      "metadata": {
        "colab": {
          "base_uri": "https://localhost:8080/"
        },
        "id": "1zQ4DfRQyUF8",
        "outputId": "bc2a0653-ea54-4f2d-8195-a5df47616bbc"
      },
      "execution_count": 15,
      "outputs": [
        {
          "output_type": "execute_result",
          "data": {
            "text/plain": [
              "array([[ 5,  7,  9, 11],\n",
              "       [ 9, 11, 13, 15],\n",
              "       [13,  6,  8, 10]])"
            ]
          },
          "metadata": {},
          "execution_count": 15
        }
      ]
    },
    {
      "cell_type": "markdown",
      "source": [
        "The arrays need to have the same columns.\n",
        "\n",
        "Numpy arrays also support comparison operations like == != > etc. The result is an array of boleans."
      ],
      "metadata": {
        "id": "kii4lIEsy89U"
      }
    },
    {
      "cell_type": "code",
      "source": [
        "arr1 = np.array([[1, 2, 3], [3, 4, 5]])\n",
        "arr2 = np.array([[2, 2, 3], [1, 2, 5]])"
      ],
      "metadata": {
        "id": "gOiD7x4GyZ1C"
      },
      "execution_count": 16,
      "outputs": []
    },
    {
      "cell_type": "code",
      "source": [
        "arr1 == arr2"
      ],
      "metadata": {
        "colab": {
          "base_uri": "https://localhost:8080/"
        },
        "id": "c7y3_hb9zeg6",
        "outputId": "258d280f-ba75-4984-ca36-4a5e30344ad8"
      },
      "execution_count": 17,
      "outputs": [
        {
          "output_type": "execute_result",
          "data": {
            "text/plain": [
              "array([[False,  True,  True],\n",
              "       [False, False,  True]])"
            ]
          },
          "metadata": {},
          "execution_count": 17
        }
      ]
    },
    {
      "cell_type": "code",
      "source": [
        "arr1 > arr2"
      ],
      "metadata": {
        "colab": {
          "base_uri": "https://localhost:8080/"
        },
        "id": "gDs_y86mzgVV",
        "outputId": "04aa1618-12ee-4a7a-8818-33bbec5fecce"
      },
      "execution_count": 18,
      "outputs": [
        {
          "output_type": "execute_result",
          "data": {
            "text/plain": [
              "array([[False, False, False],\n",
              "       [ True,  True, False]])"
            ]
          },
          "metadata": {},
          "execution_count": 18
        }
      ]
    },
    {
      "cell_type": "code",
      "source": [
        "arr2 != arr1"
      ],
      "metadata": {
        "colab": {
          "base_uri": "https://localhost:8080/"
        },
        "id": "2ZlX-iWWzoW6",
        "outputId": "27fdbcda-68d1-4f0e-e197-9bdaf1e83ede"
      },
      "execution_count": 19,
      "outputs": [
        {
          "output_type": "execute_result",
          "data": {
            "text/plain": [
              "array([[ True, False, False],\n",
              "       [ True,  True, False]])"
            ]
          },
          "metadata": {},
          "execution_count": 19
        }
      ]
    },
    {
      "cell_type": "markdown",
      "source": [
        "Array comparison is frequently used to count the number of equal elements in two arrays using the sum method. Remember that True evaluates to 1 and False evaluates to 0 when booleans are used in arithmetic operations."
      ],
      "metadata": {
        "id": "o3r73lnMz8e3"
      }
    },
    {
      "cell_type": "code",
      "source": [
        "(arr1 == arr2).sum()"
      ],
      "metadata": {
        "colab": {
          "base_uri": "https://localhost:8080/"
        },
        "id": "ZMiPrX75zr9f",
        "outputId": "f4bd853c-7143-43c8-8ac7-32d47140581f"
      },
      "execution_count": 20,
      "outputs": [
        {
          "output_type": "execute_result",
          "data": {
            "text/plain": [
              "3"
            ]
          },
          "metadata": {},
          "execution_count": 20
        }
      ]
    },
    {
      "cell_type": "markdown",
      "source": [
        "\n",
        "# Array indexing and slicing¶\n",
        "\n",
        "Numpy extends Python's list indexing notation using [] to multiple dimensions in an intuitive fashion. You can provide a comma-separated list of indices or ranges to select a specific element or a subarray (also called a slice) from a Numpy array.\n"
      ],
      "metadata": {
        "id": "qQKmBHVr0Dab"
      }
    },
    {
      "cell_type": "code",
      "source": [
        "arr3 = np.array([\n",
        "    [[11, 12, 13, 14],\n",
        "     [13, 14, 15, 19]],\n",
        "\n",
        "    [[15, 16, 17, 21],\n",
        "     [63, 92, 36, 18]],\n",
        "\n",
        "    [[98, 32, 81, 23],\n",
        "     [17, 18, 19.5, 43]]])"
      ],
      "metadata": {
        "id": "fMHAmHXTz_ng"
      },
      "execution_count": 21,
      "outputs": []
    },
    {
      "cell_type": "code",
      "source": [
        "arr3.shape"
      ],
      "metadata": {
        "colab": {
          "base_uri": "https://localhost:8080/"
        },
        "id": "TyG93qWA0Mnf",
        "outputId": "b44425e6-28cc-4697-b32e-0e4760d2ec71"
      },
      "execution_count": 22,
      "outputs": [
        {
          "output_type": "execute_result",
          "data": {
            "text/plain": [
              "(3, 2, 4)"
            ]
          },
          "metadata": {},
          "execution_count": 22
        }
      ]
    },
    {
      "cell_type": "code",
      "source": [
        "arr3[1, 1, 2]"
      ],
      "metadata": {
        "colab": {
          "base_uri": "https://localhost:8080/"
        },
        "id": "6o-BrPa60PKB",
        "outputId": "4d8a4118-3c4e-4387-afa0-13c34e6ea635"
      },
      "execution_count": 24,
      "outputs": [
        {
          "output_type": "execute_result",
          "data": {
            "text/plain": [
              "36.0"
            ]
          },
          "metadata": {},
          "execution_count": 24
        }
      ]
    },
    {
      "cell_type": "code",
      "source": [
        "#using ranges\n",
        "arr3[1: , 0:1, :2]"
      ],
      "metadata": {
        "colab": {
          "base_uri": "https://localhost:8080/"
        },
        "id": "u3avB5MQ0TD9",
        "outputId": "6e06319f-e520-4675-ebd9-d19f804acbef"
      },
      "execution_count": 25,
      "outputs": [
        {
          "output_type": "execute_result",
          "data": {
            "text/plain": [
              "array([[[15., 16.]],\n",
              "\n",
              "       [[98., 32.]]])"
            ]
          },
          "metadata": {},
          "execution_count": 25
        }
      ]
    },
    {
      "cell_type": "markdown",
      "source": [
        "The notation and its results can seem confusing at first, so take your time to experiment and become comfortable with it. Use the cells below to try out some examples of array indexing and slicing, with different combinations of indices and ranges. Here are some more examples demonstrated visually:\n",
        "\n",
        "![jn.JPG](data:image/jpeg;base64,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)\n",
        "\n",
        "# Other ways of creating Numpy arrays\n",
        "\n",
        "Numpy also provides some handy functions to create arrays of desired shapes with fixed or random values. Check out the official documentation or use the help function to learn more.\n"
      ],
      "metadata": {
        "id": "bVJ20dol2CGx"
      }
    },
    {
      "cell_type": "code",
      "source": [
        "#all zeros\n",
        "np.zeros((3, 2))"
      ],
      "metadata": {
        "colab": {
          "base_uri": "https://localhost:8080/"
        },
        "id": "2lPM3nXX09xr",
        "outputId": "3af47fb1-cc22-425a-e450-e9c3a13d0dd1"
      },
      "execution_count": 26,
      "outputs": [
        {
          "output_type": "execute_result",
          "data": {
            "text/plain": [
              "array([[0., 0.],\n",
              "       [0., 0.],\n",
              "       [0., 0.]])"
            ]
          },
          "metadata": {},
          "execution_count": 26
        }
      ]
    },
    {
      "cell_type": "code",
      "source": [
        "np.ones([2, 2, 3])"
      ],
      "metadata": {
        "colab": {
          "base_uri": "https://localhost:8080/"
        },
        "id": "hAZe_mhR2sgt",
        "outputId": "69e6186d-c810-42fe-af4e-4d3c33934a9f"
      },
      "execution_count": 27,
      "outputs": [
        {
          "output_type": "execute_result",
          "data": {
            "text/plain": [
              "array([[[1., 1., 1.],\n",
              "        [1., 1., 1.]],\n",
              "\n",
              "       [[1., 1., 1.],\n",
              "        [1., 1., 1.]]])"
            ]
          },
          "metadata": {},
          "execution_count": 27
        }
      ]
    },
    {
      "cell_type": "code",
      "source": [
        "#identity matrix\n",
        "np.eye(3)"
      ],
      "metadata": {
        "colab": {
          "base_uri": "https://localhost:8080/"
        },
        "id": "5m8FJLcq2xyI",
        "outputId": "ab7a0b76-3e79-45b9-fa89-a65e43b70004"
      },
      "execution_count": 28,
      "outputs": [
        {
          "output_type": "execute_result",
          "data": {
            "text/plain": [
              "array([[1., 0., 0.],\n",
              "       [0., 1., 0.],\n",
              "       [0., 0., 1.]])"
            ]
          },
          "metadata": {},
          "execution_count": 28
        }
      ]
    },
    {
      "cell_type": "code",
      "source": [
        "#random vector\n",
        "np.random.rand(5)"
      ],
      "metadata": {
        "colab": {
          "base_uri": "https://localhost:8080/"
        },
        "id": "xTcSznLz22Vw",
        "outputId": "22610523-ed93-4fad-bb0c-27d067007d30"
      },
      "execution_count": 29,
      "outputs": [
        {
          "output_type": "execute_result",
          "data": {
            "text/plain": [
              "array([0.33369268, 0.44174094, 0.71315257, 0.12009101, 0.04579067])"
            ]
          },
          "metadata": {},
          "execution_count": 29
        }
      ]
    },
    {
      "cell_type": "code",
      "source": [
        "#random matrix\n",
        "np.random.randn(2, 3)"
      ],
      "metadata": {
        "colab": {
          "base_uri": "https://localhost:8080/"
        },
        "id": "nXPCykJ53AJ8",
        "outputId": "20698477-9f65-4c50-ea1b-d95e99e5efdb"
      },
      "execution_count": 31,
      "outputs": [
        {
          "output_type": "execute_result",
          "data": {
            "text/plain": [
              "array([[ 1.54756348, -0.47605933, -0.58254586],\n",
              "       [-1.06235733, -0.56660801, -0.21372007]])"
            ]
          },
          "metadata": {},
          "execution_count": 31
        }
      ]
    },
    {
      "cell_type": "code",
      "source": [
        "#fixed value\n",
        "np.full([2, 3], 42)"
      ],
      "metadata": {
        "colab": {
          "base_uri": "https://localhost:8080/"
        },
        "id": "Kai4GsPP3HZB",
        "outputId": "981abd3b-96c0-4bc1-c48c-b7a364b359e8"
      },
      "execution_count": 33,
      "outputs": [
        {
          "output_type": "execute_result",
          "data": {
            "text/plain": [
              "array([[42, 42, 42],\n",
              "       [42, 42, 42]])"
            ]
          },
          "metadata": {},
          "execution_count": 33
        }
      ]
    },
    {
      "cell_type": "code",
      "source": [
        "#range with start, end and step\n",
        "np.arange(10, 90, 3)"
      ],
      "metadata": {
        "colab": {
          "base_uri": "https://localhost:8080/"
        },
        "id": "fwcwl-Xc3Ztk",
        "outputId": "0df51ecf-39ce-465a-9cea-29168c2daf73"
      },
      "execution_count": 35,
      "outputs": [
        {
          "output_type": "execute_result",
          "data": {
            "text/plain": [
              "array([10, 13, 16, 19, 22, 25, 28, 31, 34, 37, 40, 43, 46, 49, 52, 55, 58,\n",
              "       61, 64, 67, 70, 73, 76, 79, 82, 85, 88])"
            ]
          },
          "metadata": {},
          "execution_count": 35
        }
      ]
    },
    {
      "cell_type": "code",
      "source": [
        "np.arange(10, 90, 3).reshape(3, 3, 3)"
      ],
      "metadata": {
        "colab": {
          "base_uri": "https://localhost:8080/"
        },
        "id": "d3VozqMC4Nzh",
        "outputId": "766849da-aaff-4ed8-d5e9-cb8657f2914a"
      },
      "execution_count": 37,
      "outputs": [
        {
          "output_type": "execute_result",
          "data": {
            "text/plain": [
              "array([[[10, 13, 16],\n",
              "        [19, 22, 25],\n",
              "        [28, 31, 34]],\n",
              "\n",
              "       [[37, 40, 43],\n",
              "        [46, 49, 52],\n",
              "        [55, 58, 61]],\n",
              "\n",
              "       [[64, 67, 70],\n",
              "        [73, 76, 79],\n",
              "        [82, 85, 88]]])"
            ]
          },
          "metadata": {},
          "execution_count": 37
        }
      ]
    },
    {
      "cell_type": "code",
      "source": [
        " #equally spaced numbers in a range\n",
        "np.linspace(3, 27, 9)"
      ],
      "metadata": {
        "colab": {
          "base_uri": "https://localhost:8080/"
        },
        "id": "IvbwBXsI3vFA",
        "outputId": "275215e0-5025-4109-f169-54e26113643d"
      },
      "execution_count": 36,
      "outputs": [
        {
          "output_type": "execute_result",
          "data": {
            "text/plain": [
              "array([ 3.,  6.,  9., 12., 15., 18., 21., 24., 27.])"
            ]
          },
          "metadata": {},
          "execution_count": 36
        }
      ]
    }
  ]
}