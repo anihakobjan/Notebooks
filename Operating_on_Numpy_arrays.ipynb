{
  "nbformat": 4,
  "nbformat_minor": 0,
  "metadata": {
    "colab": {
      "provenance": []
    },
    "kernelspec": {
      "name": "python3",
      "display_name": "Python 3"
    },
    "language_info": {
      "name": "python"
    }
  },
  "cells": [
    {
      "cell_type": "markdown",
      "source": [
        "##Working with Numpy - Part 1\n",
        "The \"data\" in Data Analysis usually refers to numerical data e.g. sales figures, stock prices, database tables etc. The Numpy library provides specialized data structures, functions and other tools for numerical computing in Python.\n"
      ],
      "metadata": {
        "id": "DXNNY1jyH6_I"
      }
    },
    {
      "cell_type": "markdown",
      "source": [
        "Let's say we want to use climate data like teh temperature, rainfall and humidty in a region to determine if the region is well suited for growing apples. A really simple approach for doing this would be to formulate teh relationship between the annual yield of apples(tons per hectare) and the climate conditions like the average temperature (in degrees Farenheit), rainfall (in millimeters)  and average relative humidity (in percentage) as a linear equation.\n",
        "\n",
        "`yield_of_apples = weight1 × temperature+ weight2 × rainfall + weight3 × humidity`"
      ],
      "metadata": {
        "id": "V1o6RLNHcYJ6"
      }
    },
    {
      "cell_type": "markdown",
      "source": [
        "The yield of apples is expressed as a weighted sum of temperature, rainfall and humidity. Obviously, this is an approximation, since the actual relation may not necessarily be linear.\n",
        "\n",
        "Based on some statistical analysis of historical data, we might be able to come up with reasonble values for the weights."
      ],
      "metadata": {
        "id": "QLDT4bUVdUOt"
      }
    },
    {
      "cell_type": "code",
      "execution_count": 11,
      "metadata": {
        "id": "wiLvLYvSHvsu"
      },
      "outputs": [],
      "source": [
        "w1, w2, w3 = 0.3, 0.2, 0.5"
      ]
    },
    {
      "cell_type": "markdown",
      "source": [
        "Given some climate data for the region, we can now predict what the yield of apples in the region might look like. Here's some sample data:\n",
        "\n",
        "![data1.JPG](data:image/jpeg;base64,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)"
      ],
      "metadata": {
        "id": "sQlfURovePTi"
      }
    },
    {
      "cell_type": "markdown",
      "source": [
        "We can record the climate data in individual variables to record each region."
      ],
      "metadata": {
        "id": "gI091j3YevCl"
      }
    },
    {
      "cell_type": "code",
      "source": [
        "kanto_temp = 73\n",
        "kanto_rainfall = 67\n",
        "kanto_humidity = 43"
      ],
      "metadata": {
        "id": "jdzc1bryeNY5"
      },
      "execution_count": 2,
      "outputs": []
    },
    {
      "cell_type": "markdown",
      "source": [
        "Next, we can substitute it into the linear equation to predict yield of apples in that region."
      ],
      "metadata": {
        "id": "oPJ54hAofHID"
      }
    },
    {
      "cell_type": "code",
      "source": [
        "kanto_yield_apples = kanto_temp * w1 + kanto_rainfall * w2 + kanto_humidity * w3\n",
        "kanto_yield_apples"
      ],
      "metadata": {
        "colab": {
          "base_uri": "https://localhost:8080/"
        },
        "id": "9TgcKEWveAz5",
        "outputId": "0cbd3cf6-a5c1-4615-9176-5049151accc9"
      },
      "execution_count": 3,
      "outputs": [
        {
          "output_type": "execute_result",
          "data": {
            "text/plain": [
              "56.8"
            ]
          },
          "metadata": {},
          "execution_count": 3
        }
      ]
    },
    {
      "cell_type": "code",
      "source": [
        "print(f\"The expected yield of apples in the Kanto region is {kanto_yield_apples} tons per hectare.\")"
      ],
      "metadata": {
        "colab": {
          "base_uri": "https://localhost:8080/"
        },
        "id": "89ZzaUY6fk4r",
        "outputId": "a34c8b6a-10d2-4896-8d96-1ab2dfffdc88"
      },
      "execution_count": 4,
      "outputs": [
        {
          "output_type": "stream",
          "name": "stdout",
          "text": [
            "The expected yield of apples in the Kanto region is 56.8 tons per hectare.\n"
          ]
        }
      ]
    },
    {
      "cell_type": "markdown",
      "source": [
        "To make if slightly easier to perform the above computation for multiple regions, we can represent the climate data for each region as a vector i.e. a list of numbers."
      ],
      "metadata": {
        "id": "S36UX6mOgaF3"
      }
    },
    {
      "cell_type": "code",
      "source": [
        "kanto = [73, 67, 43]\n",
        "johto = [91, 88, 43]\n",
        "hoenn = [87, 134, 58]\n",
        "sinnoh = [102, 43, 37]\n",
        "unova = [69, 96, 70]"
      ],
      "metadata": {
        "id": "V2EdG44fgWP3"
      },
      "execution_count": 12,
      "outputs": []
    },
    {
      "cell_type": "markdown",
      "source": [
        "The thre numbers in each vector represent the temperature, rainfall and humidity data respectively. The set of weights to be used in the formula can also be represented as a vector."
      ],
      "metadata": {
        "id": "vm8G-r4Xg7PR"
      }
    },
    {
      "cell_type": "code",
      "source": [
        "weights = [w1, w2, w3]"
      ],
      "metadata": {
        "id": "JBCrUf3eg5xM"
      },
      "execution_count": 13,
      "outputs": []
    },
    {
      "cell_type": "markdown",
      "source": [
        "Now we can write a function to calculate the yield of apples."
      ],
      "metadata": {
        "id": "9iPlM0zIhfDq"
      }
    },
    {
      "cell_type": "code",
      "source": [
        "def crop_yield(region, weights):\n",
        "  result = 0\n",
        "  for x, w in zip(region, weights):\n",
        "    result += x * w\n",
        "  return result"
      ],
      "metadata": {
        "id": "yc_O0D3nhMck"
      },
      "execution_count": 14,
      "outputs": []
    },
    {
      "cell_type": "code",
      "source": [
        "crop_yield(kanto, weights)"
      ],
      "metadata": {
        "colab": {
          "base_uri": "https://localhost:8080/"
        },
        "id": "GbhYml_th1Zr",
        "outputId": "cfcc80d7-6253-4af6-9df9-521e81908725"
      },
      "execution_count": 15,
      "outputs": [
        {
          "output_type": "execute_result",
          "data": {
            "text/plain": [
              "56.8"
            ]
          },
          "metadata": {},
          "execution_count": 15
        }
      ]
    },
    {
      "cell_type": "code",
      "source": [
        "crop_yield(johto, weights)"
      ],
      "metadata": {
        "colab": {
          "base_uri": "https://localhost:8080/"
        },
        "id": "sYRKJhPAh65q",
        "outputId": "5badb585-48bb-42e6-d380-04f0457dbb98"
      },
      "execution_count": 16,
      "outputs": [
        {
          "output_type": "execute_result",
          "data": {
            "text/plain": [
              "66.4"
            ]
          },
          "metadata": {},
          "execution_count": 16
        }
      ]
    },
    {
      "cell_type": "code",
      "source": [
        "crop_yield(unova, weights)"
      ],
      "metadata": {
        "colab": {
          "base_uri": "https://localhost:8080/"
        },
        "id": "7uCi1ZwpjGde",
        "outputId": "782f396a-3da6-43f3-f02b-c06dcac16983"
      },
      "execution_count": 17,
      "outputs": [
        {
          "output_type": "execute_result",
          "data": {
            "text/plain": [
              "74.9"
            ]
          },
          "metadata": {},
          "execution_count": 17
        }
      ]
    },
    {
      "cell_type": "markdown",
      "source": [
        "## Going from Python lists to Numpy arrays\n",
        "The calculation performed by the crop_yield function (element-wise multiplication of two vectors, and taking a sum of the results) is also the dot product of the two vectors. [link text](https://www.youtube.com/watch?v=WNuIhXo39_k )"
      ],
      "metadata": {
        "id": "s9Z-5aP0jbhN"
      }
    },
    {
      "cell_type": "markdown",
      "source": [
        "Numpy provides a built-in function to perform the dot product of two vectors. However, the lists must first be converted to numpy arrays before the operation.\n",
        "\n",
        "To install numpy:\n",
        "!pip install numpy"
      ],
      "metadata": {
        "id": "T6L-5LrrkDHp"
      }
    },
    {
      "cell_type": "code",
      "source": [
        "import numpy as np"
      ],
      "metadata": {
        "id": "AR1Wx9sjjNcW"
      },
      "execution_count": 18,
      "outputs": []
    },
    {
      "cell_type": "code",
      "source": [
        "kanto = np.array([73, 67, 43])"
      ],
      "metadata": {
        "id": "z-iw4RM8kTRq"
      },
      "execution_count": 19,
      "outputs": []
    },
    {
      "cell_type": "code",
      "source": [
        "kanto"
      ],
      "metadata": {
        "colab": {
          "base_uri": "https://localhost:8080/"
        },
        "id": "uL9jNx_dkd0D",
        "outputId": "ebc7affb-9f42-4679-9afb-c982693b8bb6"
      },
      "execution_count": 20,
      "outputs": [
        {
          "output_type": "execute_result",
          "data": {
            "text/plain": [
              "array([73, 67, 43])"
            ]
          },
          "metadata": {},
          "execution_count": 20
        }
      ]
    },
    {
      "cell_type": "code",
      "source": [
        "weights = np.array([w1, w2, w3])"
      ],
      "metadata": {
        "id": "Wuo5MD2Hken5"
      },
      "execution_count": 21,
      "outputs": []
    },
    {
      "cell_type": "code",
      "source": [
        "weights"
      ],
      "metadata": {
        "colab": {
          "base_uri": "https://localhost:8080/"
        },
        "id": "YJaETzWbkknt",
        "outputId": "92edc6f9-c732-4b70-d4c0-5cbeac3e8e7e"
      },
      "execution_count": 22,
      "outputs": [
        {
          "output_type": "execute_result",
          "data": {
            "text/plain": [
              "array([0.3, 0.2, 0.5])"
            ]
          },
          "metadata": {},
          "execution_count": 22
        }
      ]
    },
    {
      "cell_type": "code",
      "source": [
        "type(kanto)"
      ],
      "metadata": {
        "colab": {
          "base_uri": "https://localhost:8080/"
        },
        "id": "tposXeMsk4iX",
        "outputId": "982a3757-78c1-4a98-aa8e-ca94d8a9104a"
      },
      "execution_count": 23,
      "outputs": [
        {
          "output_type": "execute_result",
          "data": {
            "text/plain": [
              "numpy.ndarray"
            ]
          },
          "metadata": {},
          "execution_count": 23
        }
      ]
    },
    {
      "cell_type": "code",
      "source": [
        "type(weights)"
      ],
      "metadata": {
        "colab": {
          "base_uri": "https://localhost:8080/"
        },
        "id": "D8WTqCzek8Mq",
        "outputId": "a1a4f2c5-1b3b-4231-c28a-fdfd73120a03"
      },
      "execution_count": 24,
      "outputs": [
        {
          "output_type": "execute_result",
          "data": {
            "text/plain": [
              "numpy.ndarray"
            ]
          },
          "metadata": {},
          "execution_count": 24
        }
      ]
    },
    {
      "cell_type": "markdown",
      "source": [
        "Just like lists, Numpy arrays support the indexing notation []"
      ],
      "metadata": {
        "id": "6UEREoYWlB2o"
      }
    },
    {
      "cell_type": "code",
      "source": [
        "weights[0]"
      ],
      "metadata": {
        "colab": {
          "base_uri": "https://localhost:8080/"
        },
        "id": "5jyZ98_lk--P",
        "outputId": "9cec3df1-9b34-4a7d-8602-fcdbad8d27cc"
      },
      "execution_count": 25,
      "outputs": [
        {
          "output_type": "execute_result",
          "data": {
            "text/plain": [
              "0.3"
            ]
          },
          "metadata": {},
          "execution_count": 25
        }
      ]
    },
    {
      "cell_type": "code",
      "source": [
        "kanto[2]"
      ],
      "metadata": {
        "colab": {
          "base_uri": "https://localhost:8080/"
        },
        "id": "ZGMsVyMXlIL3",
        "outputId": "27c33bb7-7338-4e59-eb2e-85477eef78a3"
      },
      "execution_count": 26,
      "outputs": [
        {
          "output_type": "execute_result",
          "data": {
            "text/plain": [
              "43"
            ]
          },
          "metadata": {},
          "execution_count": 26
        }
      ]
    },
    {
      "cell_type": "markdown",
      "source": [
        "# Operating on Numpy arrays\n",
        "\n",
        "We can now compute the dot product of the two vectors using the np.dot function\n",
        "\n",
        "`help(np.dot)` provides further information"
      ],
      "metadata": {
        "id": "fKV6W6YTlPJ7"
      }
    },
    {
      "cell_type": "code",
      "source": [
        "np.dot(kanto, weights)"
      ],
      "metadata": {
        "colab": {
          "base_uri": "https://localhost:8080/"
        },
        "id": "Ce4lszXwlLEW",
        "outputId": "2695d4cd-6aa4-4dd0-a995-8a68089b871e"
      },
      "execution_count": 27,
      "outputs": [
        {
          "output_type": "execute_result",
          "data": {
            "text/plain": [
              "56.8"
            ]
          },
          "metadata": {},
          "execution_count": 27
        }
      ]
    },
    {
      "cell_type": "markdown",
      "source": [
        "The same result can be achieved with simpler operations in Numpy."
      ],
      "metadata": {
        "id": "uVI7fDXwlyCR"
      }
    },
    {
      "cell_type": "code",
      "source": [
        "(kanto * weights).sum()"
      ],
      "metadata": {
        "colab": {
          "base_uri": "https://localhost:8080/"
        },
        "id": "t8UVMAhFlgbU",
        "outputId": "94e870c0-2b27-41da-b0ac-6e8ff0666acc"
      },
      "execution_count": 28,
      "outputs": [
        {
          "output_type": "execute_result",
          "data": {
            "text/plain": [
              "56.8"
            ]
          },
          "metadata": {},
          "execution_count": 28
        }
      ]
    },
    {
      "cell_type": "markdown",
      "source": [
        "`*` performs an element-wise multiplication of two arrays if they have the same size, and the sum method calculates the sum of numbers in an array.\n"
      ],
      "metadata": {
        "id": "oF7iWxEsmBHn"
      }
    },
    {
      "cell_type": "markdown",
      "source": [
        "There are several benefits to using Numpy arrays:\n",
        "\n",
        "\n",
        "*   Better performance - The library uses C++ which is faster than Python.\n",
        "*   Ease of use\n",
        "\n"
      ],
      "metadata": {
        "id": "aHlZeBLdm6y3"
      }
    },
    {
      "cell_type": "code",
      "source": [
        "arr1 = list(range(1000000))\n",
        "arr2 = list(range(1000000, 2000000))\n",
        "\n",
        "arr1_np = np.array(arr1)\n",
        "arr2_np = np.array(arr2)"
      ],
      "metadata": {
        "id": "T3YgUohxl8l7"
      },
      "execution_count": 29,
      "outputs": []
    },
    {
      "cell_type": "code",
      "source": [
        "%%time\n",
        "result = 0\n",
        "for x1, x2 in zip(arr1, arr2):\n",
        "  result += x1 * x2\n",
        "result"
      ],
      "metadata": {
        "colab": {
          "base_uri": "https://localhost:8080/"
        },
        "id": "s2lUvugcn4ep",
        "outputId": "ecb594e3-9106-4df8-b9db-835ea15e5329"
      },
      "execution_count": 30,
      "outputs": [
        {
          "output_type": "stream",
          "name": "stdout",
          "text": [
            "CPU times: user 196 ms, sys: 296 µs, total: 196 ms\n",
            "Wall time: 197 ms\n"
          ]
        },
        {
          "output_type": "execute_result",
          "data": {
            "text/plain": [
              "833332333333500000"
            ]
          },
          "metadata": {},
          "execution_count": 30
        }
      ]
    },
    {
      "cell_type": "code",
      "source": [
        "%%time\n",
        "np.dot(arr1_np, arr2_np)"
      ],
      "metadata": {
        "colab": {
          "base_uri": "https://localhost:8080/"
        },
        "id": "l9ClyV79oI70",
        "outputId": "2ca15139-204c-46b4-d4d6-2d8c6bb682bd"
      },
      "execution_count": 31,
      "outputs": [
        {
          "output_type": "stream",
          "name": "stdout",
          "text": [
            "CPU times: user 2.96 ms, sys: 0 ns, total: 2.96 ms\n",
            "Wall time: 2.97 ms\n"
          ]
        },
        {
          "output_type": "execute_result",
          "data": {
            "text/plain": [
              "833332333333500000"
            ]
          },
          "metadata": {},
          "execution_count": 31
        }
      ]
    }
  ]
}
