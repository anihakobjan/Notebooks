{
  "nbformat": 4,
  "nbformat_minor": 0,
  "metadata": {
    "colab": {
      "provenance": []
    },
    "kernelspec": {
      "name": "python3",
      "display_name": "Python 3"
    },
    "language_info": {
      "name": "python"
    }
  },
  "cells": [
    {
      "cell_type": "markdown",
      "source": [
        "#Multi-dimensional Numpy arrays - Numpy part 2\n",
        "Multi-dimensional Numpy arrays offer an opportunity to represent multiple vectors together."
      ],
      "metadata": {
        "id": "tjFShc3wc94x"
      }
    },
    {
      "cell_type": "code",
      "execution_count": 1,
      "metadata": {
        "id": "dV-QxLBxQgwr"
      },
      "outputs": [],
      "source": [
        "import numpy as np\n",
        "\n",
        "climate_data = np.array([[73, 67, 43],\n",
        "                        [91, 88, 64],\n",
        "                        [87, 134, 58],\n",
        "                        [102, 43, 37],\n",
        "                        [69, 96, 70]])"
      ]
    },
    {
      "cell_type": "code",
      "source": [
        "climate_data"
      ],
      "metadata": {
        "colab": {
          "base_uri": "https://localhost:8080/"
        },
        "id": "LGSEjr5Rd9sd",
        "outputId": "2fb676d6-e409-47b6-e6c3-5a76dad4cf3c"
      },
      "execution_count": 2,
      "outputs": [
        {
          "output_type": "execute_result",
          "data": {
            "text/plain": [
              "array([[ 73,  67,  43],\n",
              "       [ 91,  88,  64],\n",
              "       [ 87, 134,  58],\n",
              "       [102,  43,  37],\n",
              "       [ 69,  96,  70]])"
            ]
          },
          "metadata": {},
          "execution_count": 2
        }
      ]
    },
    {
      "cell_type": "markdown",
      "source": [
        "Here is vizual representations of a 2-d array as a  matrix with 5 rows (one for each regions for the climate data) and 3 columns (containing values for temperature, rainfall and humidity)."
      ],
      "metadata": {
        "id": "tWuinQtXfr3H"
      }
    },
    {
      "cell_type": "markdown",
      "source": [
        "![321.JPG](data:image/jpeg;base64,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)"
      ],
      "metadata": {
        "id": "XmatTOdzgQB2"
      }
    },
    {
      "cell_type": "code",
      "source": [
        "# 2D array (matrix)\n",
        "climate_data.shape"
      ],
      "metadata": {
        "colab": {
          "base_uri": "https://localhost:8080/"
        },
        "id": "_t95PTBWd_3Q",
        "outputId": "876fa63d-1b02-4a62-ee0a-a8d6451de979"
      },
      "execution_count": 3,
      "outputs": [
        {
          "output_type": "execute_result",
          "data": {
            "text/plain": [
              "(5, 3)"
            ]
          },
          "metadata": {},
          "execution_count": 3
        }
      ]
    },
    {
      "cell_type": "code",
      "source": [
        "weights = np.array([0.3, 0.2, 0.5])"
      ],
      "metadata": {
        "id": "5ilzS1R0grgs"
      },
      "execution_count": 5,
      "outputs": []
    },
    {
      "cell_type": "code",
      "source": [
        "weights"
      ],
      "metadata": {
        "colab": {
          "base_uri": "https://localhost:8080/"
        },
        "id": "lH8EQveSgtrG",
        "outputId": "fd7ff91a-5a7a-4230-fe5a-e9ef6707cc3a"
      },
      "execution_count": 6,
      "outputs": [
        {
          "output_type": "execute_result",
          "data": {
            "text/plain": [
              "array([0.3, 0.2, 0.5])"
            ]
          },
          "metadata": {},
          "execution_count": 6
        }
      ]
    },
    {
      "cell_type": "code",
      "source": [
        "# 1D array\n",
        "weights.shape"
      ],
      "metadata": {
        "colab": {
          "base_uri": "https://localhost:8080/"
        },
        "id": "kiIBBeVxhH11",
        "outputId": "90794987-50a3-4e25-fd0a-995a2c8fc9a4"
      },
      "execution_count": 8,
      "outputs": [
        {
          "output_type": "execute_result",
          "data": {
            "text/plain": [
              "(3,)"
            ]
          },
          "metadata": {},
          "execution_count": 8
        }
      ]
    },
    {
      "cell_type": "code",
      "source": [
        "# 3D array\n",
        "arr3 = np.array([\n",
        "    [[11, 12, 13],\n",
        "     [13, 14, 15]],\n",
        "    [[15, 16, 17],\n",
        "     [17, 18, 19.5]]])"
      ],
      "metadata": {
        "id": "SsPthj_DhN9c"
      },
      "execution_count": 11,
      "outputs": []
    },
    {
      "cell_type": "code",
      "source": [
        "arr3.shape"
      ],
      "metadata": {
        "colab": {
          "base_uri": "https://localhost:8080/"
        },
        "id": "hZIGwt31h0D2",
        "outputId": "8696e327-42fe-4a9d-c30a-7fd51ccfdd5a"
      },
      "execution_count": 12,
      "outputs": [
        {
          "output_type": "execute_result",
          "data": {
            "text/plain": [
              "(2, 2, 3)"
            ]
          },
          "metadata": {},
          "execution_count": 12
        }
      ]
    },
    {
      "cell_type": "markdown",
      "source": [
        "All the elements in a numpy array have the same dataype. You can check the data type of an array using the .dtype property."
      ],
      "metadata": {
        "id": "RHLNbi-_iTJs"
      }
    },
    {
      "cell_type": "code",
      "source": [
        "weights.dtype"
      ],
      "metadata": {
        "colab": {
          "base_uri": "https://localhost:8080/"
        },
        "id": "9sb2YKvnh4LZ",
        "outputId": "4dd79424-2ef9-4fd4-90b7-cd1401950515"
      },
      "execution_count": 13,
      "outputs": [
        {
          "output_type": "execute_result",
          "data": {
            "text/plain": [
              "dtype('float64')"
            ]
          },
          "metadata": {},
          "execution_count": 13
        }
      ]
    },
    {
      "cell_type": "markdown",
      "source": [
        "If an array contains even a single floating number, all the other elements are also coverted to floats."
      ],
      "metadata": {
        "id": "vpH9dZiniwi4"
      }
    },
    {
      "cell_type": "code",
      "source": [
        "climate_data.dtype"
      ],
      "metadata": {
        "colab": {
          "base_uri": "https://localhost:8080/"
        },
        "id": "et1tNZZLik_Z",
        "outputId": "b8e1cf9a-b185-4eb3-bae9-15a9f94de111"
      },
      "execution_count": 15,
      "outputs": [
        {
          "output_type": "execute_result",
          "data": {
            "text/plain": [
              "dtype('int64')"
            ]
          },
          "metadata": {},
          "execution_count": 15
        }
      ]
    },
    {
      "cell_type": "code",
      "source": [
        "arr3.dtype"
      ],
      "metadata": {
        "colab": {
          "base_uri": "https://localhost:8080/"
        },
        "id": "YhAlbYAKioWr",
        "outputId": "8d596c26-5c61-4d50-9963-31ca78246180"
      },
      "execution_count": 16,
      "outputs": [
        {
          "output_type": "execute_result",
          "data": {
            "text/plain": [
              "dtype('float64')"
            ]
          },
          "metadata": {},
          "execution_count": 16
        }
      ]
    },
    {
      "cell_type": "markdown",
      "source": [
        "We can compute teh prediction yields of apples in all the regions, using a single matrix multiplication between climate_data (a 5x3 matrix) and weights (a vector of length 3).\n",
        "Here is what it looks like visually."
      ],
      "metadata": {
        "id": "Th-_5aTTjMeK"
      }
    },
    {
      "cell_type": "markdown",
      "source": [
        "![Capture4.JPG](data:image/jpeg;base64,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)"
      ],
      "metadata": {
        "id": "KidsehL7jmba"
      }
    },
    {
      "cell_type": "markdown",
      "source": [
        "In Numpy we can use the np.matmul function, or the @ operator to perform matrix multiplication."
      ],
      "metadata": {
        "id": "Q0lterq9kYiD"
      }
    },
    {
      "cell_type": "code",
      "source": [
        "np.matmul(climate_data, weights)"
      ],
      "metadata": {
        "colab": {
          "base_uri": "https://localhost:8080/"
        },
        "id": "eu6QumvtjAuf",
        "outputId": "deef4558-3f54-4513-9d79-44b296dd72cb"
      },
      "execution_count": 18,
      "outputs": [
        {
          "output_type": "execute_result",
          "data": {
            "text/plain": [
              "array([56.8, 76.9, 81.9, 57.7, 74.9])"
            ]
          },
          "metadata": {},
          "execution_count": 18
        }
      ]
    },
    {
      "cell_type": "code",
      "source": [
        "climate_data @ weights"
      ],
      "metadata": {
        "colab": {
          "base_uri": "https://localhost:8080/"
        },
        "id": "km_ZbWwSkrU7",
        "outputId": "5a6c3a9b-5cfe-44ad-a11f-68cd7813b90c"
      },
      "execution_count": 19,
      "outputs": [
        {
          "output_type": "execute_result",
          "data": {
            "text/plain": [
              "array([56.8, 76.9, 81.9, 57.7, 74.9])"
            ]
          },
          "metadata": {},
          "execution_count": 19
        }
      ]
    },
    {
      "cell_type": "markdown",
      "source": [
        "##Working with CSV data files¶\n",
        "\n",
        "Numpy also provides helper functions reading from & writing to files. Let's download a file climate.txt, which contains 10,000 climate measurements (temperature, rainfall & humidity) in the following format:\n",
        "\n",
        "\n",
        "\n",
        "```\n",
        "temperature,rainfall,humidity\n",
        "25.00,76.00,99.00\n",
        "39.00,65.00,70.00\n",
        "59.00,45.00,77.00\n",
        "84.00,63.00,38.00\n",
        "66.00,50.00,52.00\n",
        "41.00,94.00,77.00\n",
        "91.00,57.00,96.00\n",
        "49.00,96.00,99.00\n",
        "67.00,20.00,28.00\n",
        "...\n",
        "```\n",
        "This format of storing data is known as comma-separated values or CSV.\n",
        "\n",
        " CSVs: A comma-separated values (CSV) file is a delimited text file that uses a comma to separate values. Each line of the file is a data record. Each record consists of one or more fields, separated by commas. A CSV file typically stores tabular data (numbers and text) in plain text, in which case each line will have the same number of fields. (Wikipedia)\n",
        "\n",
        "To read this file into a numpy array, we can use the genfromtxt function.\n"
      ],
      "metadata": {
        "id": "Q4Drq3F5mBrm"
      }
    },
    {
      "cell_type": "code",
      "source": [
        "import urllib.request"
      ],
      "metadata": {
        "id": "44uSbx5tmD9Q"
      },
      "execution_count": 20,
      "outputs": []
    },
    {
      "cell_type": "code",
      "source": [
        "urllib.request.urlretrieve(\n",
        "    'https://gist.githubusercontent.com/BirajCoder/a4ffcb76fd6fb221d76ac2ee2b8584e9/raw/4054f90adfd361b7aa4255e99c2e874664094cea/climate.csv',\n",
        "    'climate.txt'\n",
        ")"
      ],
      "metadata": {
        "colab": {
          "base_uri": "https://localhost:8080/"
        },
        "id": "EH0IO62mmigj",
        "outputId": "759239c0-3ebe-4ceb-83a7-7dd07ae47b88"
      },
      "execution_count": 21,
      "outputs": [
        {
          "output_type": "execute_result",
          "data": {
            "text/plain": [
              "('climate.txt', <http.client.HTTPMessage at 0x7879dd2e1270>)"
            ]
          },
          "metadata": {},
          "execution_count": 21
        }
      ]
    },
    {
      "cell_type": "code",
      "source": [
        "climate_data = np.genfromtxt('climate.txt', delimiter = ',', skip_header = 1)"
      ],
      "metadata": {
        "id": "vwkECNZ-mqa8"
      },
      "execution_count": 22,
      "outputs": []
    },
    {
      "cell_type": "code",
      "source": [
        "climate_data"
      ],
      "metadata": {
        "colab": {
          "base_uri": "https://localhost:8080/"
        },
        "id": "zRxzHIA5m1-5",
        "outputId": "f8d4ca19-3e36-41a5-de36-153c2b99dcce"
      },
      "execution_count": 23,
      "outputs": [
        {
          "output_type": "execute_result",
          "data": {
            "text/plain": [
              "array([[25., 76., 99.],\n",
              "       [39., 65., 70.],\n",
              "       [59., 45., 77.],\n",
              "       ...,\n",
              "       [99., 62., 58.],\n",
              "       [70., 71., 91.],\n",
              "       [92., 39., 76.]])"
            ]
          },
          "metadata": {},
          "execution_count": 23
        }
      ]
    },
    {
      "cell_type": "code",
      "source": [
        "climate_data.shape"
      ],
      "metadata": {
        "colab": {
          "base_uri": "https://localhost:8080/"
        },
        "id": "1Wbb0Xatne6J",
        "outputId": "df443f98-c290-4be6-af9c-46603cafb339"
      },
      "execution_count": 25,
      "outputs": [
        {
          "output_type": "execute_result",
          "data": {
            "text/plain": [
              "(10000, 3)"
            ]
          },
          "metadata": {},
          "execution_count": 25
        }
      ]
    },
    {
      "cell_type": "markdown",
      "source": [
        "We can use a matrix multiplication operator @ to predict the yield of apples for the entire dataset using a given set of weights."
      ],
      "metadata": {
        "id": "qHz95FG6npP7"
      }
    },
    {
      "cell_type": "code",
      "source": [
        "weights = np.array([0.3, 0.2, 0.5])"
      ],
      "metadata": {
        "id": "BRJ82D33nh5P"
      },
      "execution_count": 26,
      "outputs": []
    },
    {
      "cell_type": "code",
      "source": [
        "yields = climate_data @ weights"
      ],
      "metadata": {
        "id": "OBUwocaen7X1"
      },
      "execution_count": 27,
      "outputs": []
    },
    {
      "cell_type": "code",
      "source": [
        "yields"
      ],
      "metadata": {
        "colab": {
          "base_uri": "https://localhost:8080/"
        },
        "id": "K_F5EZ6NoBOs",
        "outputId": "44ec7fd4-111c-4d11-cc82-39a13f35e019"
      },
      "execution_count": 28,
      "outputs": [
        {
          "output_type": "execute_result",
          "data": {
            "text/plain": [
              "array([72.2, 59.7, 65.2, ..., 71.1, 80.7, 73.4])"
            ]
          },
          "metadata": {},
          "execution_count": 28
        }
      ]
    },
    {
      "cell_type": "code",
      "source": [
        "yields.shape"
      ],
      "metadata": {
        "colab": {
          "base_uri": "https://localhost:8080/"
        },
        "id": "BhTq8wb1oDEE",
        "outputId": "f60e7abb-14a5-41bd-8fa6-f2a651eb18f6"
      },
      "execution_count": 30,
      "outputs": [
        {
          "output_type": "execute_result",
          "data": {
            "text/plain": [
              "(10000,)"
            ]
          },
          "metadata": {},
          "execution_count": 30
        }
      ]
    },
    {
      "cell_type": "markdown",
      "source": [
        "We can now add the yields back to climate_data as a fourths column using the np.concatenate function."
      ],
      "metadata": {
        "id": "-PgIwX1robFn"
      }
    },
    {
      "cell_type": "code",
      "source": [
        "climate_results = np.concatenate((climate_data, yields.reshape(10000, 1)), axis = 1)"
      ],
      "metadata": {
        "id": "1HQCm_n9oGkt"
      },
      "execution_count": 35,
      "outputs": []
    },
    {
      "cell_type": "code",
      "source": [
        "climate_results"
      ],
      "metadata": {
        "colab": {
          "base_uri": "https://localhost:8080/"
        },
        "id": "crZ3zvH3o3ug",
        "outputId": "d64fbbd5-c2e4-4d26-df35-250cf419d165"
      },
      "execution_count": 36,
      "outputs": [
        {
          "output_type": "execute_result",
          "data": {
            "text/plain": [
              "array([[25. , 76. , 99. , 72.2],\n",
              "       [39. , 65. , 70. , 59.7],\n",
              "       [59. , 45. , 77. , 65.2],\n",
              "       ...,\n",
              "       [99. , 62. , 58. , 71.1],\n",
              "       [70. , 71. , 91. , 80.7],\n",
              "       [92. , 39. , 76. , 73.4]])"
            ]
          },
          "metadata": {},
          "execution_count": 36
        }
      ]
    },
    {
      "cell_type": "markdown",
      "source": [],
      "metadata": {
        "id": "KYXHXn6Spviy"
      }
    },
    {
      "cell_type": "markdown",
      "source": [
        "\n",
        "\n",
        "There are a couple of subtleties here:\n",
        "\n",
        "  Since we wish to add new columns, we pass the argument axis=1 to np.concatenate. The axis argument specifies the dimension for concatenation.\n",
        "\n",
        "  The arrays should have the same number of dimensions, and the same length along each except the dimension used for concatenation. We use the np.reshape function to change the shape of yields from (10000,) to (10000,1).\n",
        "\n",
        "Here's a visual explanation of np.concatenate along axis=1 (can you guess what axis=0 results in?):\n",
        "\n",
        "The best way to understand what a Numpy function does is to experiment with it and read the documentation to learn about its arguments & return values.\n",
        "\n",
        "Let's write the final results from our computation above back to a file using the np.savetxt function.\n",
        "\n"
      ],
      "metadata": {
        "id": "Y5yS48m1pwBb"
      }
    },
    {
      "cell_type": "code",
      "source": [
        "np.savetxt('climate_results.txt',\n",
        "           climate_results,\n",
        "           fmt='%.2f',\n",
        "           header = \"temperature, rainfall, humidity, yield_apples\",\n",
        "           comments = '')"
      ],
      "metadata": {
        "id": "IoxHFrVUpboP"
      },
      "execution_count": 38,
      "outputs": []
    },
    {
      "cell_type": "markdown",
      "source": [
        "\n",
        "\n",
        "Numpy provides hundreds of functions for performing operations on arrays. Here are some commonly used functions:\n",
        "\n",
        "    Mathematics: np.sum, np.exp, np.round, arithemtic operators\n",
        "    Array manipulation: np.reshape, np.stack, np.concatenate, np.split\n",
        "    Linear Algebra: np.matmul, np.dot, np.transpose, np.eigvals\n",
        "    Statistics: np.mean, np.median, np.std, np.max\n",
        "\n",
        "    How to find the function you need? The easiest way to find the right function for a specific operation or use-case is to do a web search. For instance, searching for \"How to join numpy arrays\" leads to this tutorial on array concatenation.\n",
        "\n",
        "You can find a full list of array functions here: https://numpy.org/doc/stable/reference/routines.html\n"
      ],
      "metadata": {
        "id": "w2lpQoVircl2"
      }
    },
    {
      "cell_type": "code",
      "source": [],
      "metadata": {
        "id": "t5Sp4QYoqzat"
      },
      "execution_count": null,
      "outputs": []
    }
  ]
}
